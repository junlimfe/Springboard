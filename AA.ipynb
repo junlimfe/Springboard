{
 "cells": [
  {
   "cell_type": "code",
   "execution_count": 8,
   "metadata": {},
   "outputs": [
    {
     "name": "stderr",
     "output_type": "stream",
     "text": [
      "C:\\ProgramData\\Anaconda3\\lib\\site-packages\\ipykernel_launcher.py:12: DeprecationWarning: use options instead of chrome_options\n",
      "  if sys.path[0] == '':\n"
     ]
    }
   ],
   "source": [
    "from selenium import webdriver\n",
    "import selenium\n",
    "import webbrowser\n",
    "import requests, bs4\n",
    "import pandas as pd\n",
    "import time\n",
    "import numpy as np\n",
    "\n",
    "\n",
    "chrome_options = webdriver.ChromeOptions()\n",
    "chrome_options.add_argument('--no-sandbox')\n",
    "browser = webdriver.Chrome(\"C:\\\\Users\\\\juli\\\\Downloads\\\\chromedriver.exe\", chrome_options=chrome_options)\n",
    "\n",
    "browser.maximize_window() \n",
    "browser.implicitly_wait(0.5)\n",
    "\n",
    "\n",
    "#Go to aa.com\n",
    "browser.get('https://www.aa.com/homePage.do')\n",
    "\n",
    "#Enter AAdvantage #\n",
    "aadvantage = browser.find_element_by_id('loginForm.loginId')\n",
    "aadvantage.clear()\n",
    "for letter in '3KD42K2':\n",
    "    aadvantage.send_keys(letter)\n",
    "    time.sleep(1)\n",
    "\n",
    "\n",
    "\n",
    "#Enter lastname\n",
    "lastname = browser.find_element_by_id('loginForm.lastName')\n",
    "lastname.clear()\n",
    "for letter in 'li':\n",
    "    lastname.send_keys(letter)\n",
    "    time.sleep(3)\n",
    "\n",
    "\n",
    "\n",
    "#Enter Password\n",
    "password = browser.find_element_by_id('loginForm.password')\n",
    "password.clear()\n",
    "for letter in 'l119281j':\n",
    "    password.send_keys(letter)\n",
    "    time.sleep(3)\n",
    "\n",
    "\n",
    "\n",
    "#click log in button\n",
    "browser.find_element_by_xpath(\"//*[@id='loginForm']/div/div[2]/input\").click()\n"
   ]
  },
  {
   "cell_type": "code",
   "execution_count": 7,
   "metadata": {},
   "outputs": [
    {
     "name": "stdout",
     "output_type": "stream",
     "text": [
      "3\n",
      "K\n",
      "D\n",
      "4\n",
      "2\n",
      "K\n",
      "2\n"
     ]
    }
   ],
   "source": []
  },
  {
   "cell_type": "code",
   "execution_count": null,
   "metadata": {},
   "outputs": [],
   "source": []
  }
 ],
 "metadata": {
  "kernelspec": {
   "display_name": "Python 3",
   "language": "python",
   "name": "python3"
  },
  "language_info": {
   "codemirror_mode": {
    "name": "ipython",
    "version": 3
   },
   "file_extension": ".py",
   "mimetype": "text/x-python",
   "name": "python",
   "nbconvert_exporter": "python",
   "pygments_lexer": "ipython3",
   "version": "3.7.1"
  }
 },
 "nbformat": 4,
 "nbformat_minor": 2
}
